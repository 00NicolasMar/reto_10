{
  "nbformat": 4,
  "nbformat_minor": 0,
  "metadata": {
    "colab": {
      "provenance": []
    },
    "kernelspec": {
      "name": "python3",
      "display_name": "Python 3"
    },
    "language_info": {
      "name": "python"
    }
  },
  "cells": [
    {
      "cell_type": "markdown",
      "source": [
        "Desarrolle un programa que permita realizar la suma/resta de matrices. El programa debe validar las condiciones necesarias para ejecutar la operación."
      ],
      "metadata": {
        "id": "V88VTJd7Qgzi"
      }
    },
    {
      "cell_type": "code",
      "execution_count": 12,
      "metadata": {
        "colab": {
          "base_uri": "https://localhost:8080/"
        },
        "id": "vwH3_YhkPp9T",
        "outputId": "47e2b631-cf39-47bb-c9e0-598ae2bc57ba"
      },
      "outputs": [
        {
          "output_type": "stream",
          "name": "stdout",
          "text": [
            "Ingrese el número de filas: 2\n",
            "Ingrese el número de columnas: 2\n",
            "Matriz 1:\n",
            "Ingrese los elementos de la matriz\n",
            "dato de matriz (1, 1): 4\n",
            "dato de matriz (1, 2): 5\n",
            "dato de matriz (2, 1): 4\n",
            "dato de matriz (2, 2): 5\n",
            "Matriz 2:\n",
            "Ingrese los elementos de la matriz\n",
            "dato de matriz (1, 1): 3\n",
            "dato de matriz (1, 2): 4\n",
            "dato de matriz (2, 1): 2\n",
            "dato de matriz (2, 2): 3\n",
            "7 9 \n",
            "6 8 \n",
            "Resultado de la suma: None\n",
            "1 1 \n",
            "2 2 \n",
            "Resultado de la resta: None\n"
          ]
        }
      ],
      "source": [
        "def ingresar_matriz(filas, columnas):\n",
        "    matriz = [] # lista vacia inicial\n",
        "    print(\"Ingrese los elementos de la matriz\") # impresion de indicacion de ingreso de datos de matriz\n",
        "    for i in range(filas): # rango que establece el recorrido de las filas\n",
        "        fila = [] # lista vacia correspondiente a las filas\n",
        "        for j in range(columnas): # rango que establece el recorrido de columnas\n",
        "            x = int(input(\"dato de matriz (\" + str(i+1) + \", \" + str(j+1) + \"): \")) # es el ingreso de datos de la matriz\n",
        "            fila.append(x) # se unen en una sola lista las filas\n",
        "        matriz.append(fila) # se unene la lilsta de las filas a la matriz\n",
        "    return matriz # nos da el resultado acutual de la matriz\n",
        "def imprimir_matriz(matriz):\n",
        "    for fila in matriz:# con un for se hace un recorrido entre las filas de la matriz\n",
        "        for x in fila: # se hace otro recorrido pero entre los datos de las filas\n",
        "            print(x, end=' ') # se imprimen los datod, separados por espacios\n",
        "        print()\n",
        "def sumar_matrices(matriz1, matriz2): # funcion que establece la suma de las matrices\n",
        "    filas = len(matriz1)\n",
        "    columnas = len(matriz1)\n",
        "    resultado = []\n",
        "    for i in range(filas):\n",
        "        fila = []\n",
        "        for j in range(columnas):\n",
        "            fila.append(matriz1[i][j] + matriz2[i][j]) # formula que expresa la suma de matriz haciendo la suma entre el elemento de una posicion en la primera matriz mas el primer elemento de la seguda matriz\n",
        "        resultado.append(fila) # los agrega como fila de una nueva matriz\n",
        "    return resultado\n",
        "def restar_matrices(matriz1, matriz2): # funcion que establece la resta de matrices\n",
        "    filas = len(matriz1)\n",
        "    columnas = len(matriz1[0])\n",
        "    resultado = []\n",
        "    for i in range(filas):\n",
        "        fila = []\n",
        "        for j in range(columnas):\n",
        "            fila.append(matriz1[i][j] - matriz2[i][j]) # funciona igual que la suma pero esta vez restando los elementos de una misma posicion pero matriz diferente\n",
        "        resultado.append(fila) # nos consolida ese resultado ( por asi decirlo )\n",
        "# esto sera lo primero que se realizara en el codigo\n",
        "if __name__ == \"__main__\":\n",
        "    filas = int(input(\"Ingrese el número de filas: \")) # seleccion del numero de filas\n",
        "    columnas = int(input(\"Ingrese el número de columnas: \")) # seleccion del numero de columnas\n",
        "    print(\"Matriz 1:\")\n",
        "    matriz1 = ingresar_matriz(filas, columnas) # llama la funcion (ingresar_matriz) lo que permite al usuario ingresar los valores de la primera matriz y los almacena en matriz 1\n",
        "    print(\"Matriz 2:\")\n",
        "    matriz2 = ingresar_matriz(filas, columnas) # llama la funcion (ingresar_matriz) lo que permite al usuario ingresar los valores de la segda matriz y los almacena en matriz 2\n",
        "    resultado_suma = sumar_matrices(matriz1, matriz2) # llama a la funcion sumar matrices\n",
        "    resultado_resta = restar_matrices(matriz1, matriz2) # llama la funcion restar matrices\n",
        "    print(\"Resultado de la suma: \" + str(imprimir_matriz(resultado_suma))) # nos imprime el resultado de la suma\n",
        "    print(\"Resultado de la resta: \" + str(imprimir_matriz(resultado_resta))) # tambien el resultado de su resta\n",
        "\n"
      ]
    },
    {
      "cell_type": "markdown",
      "source": [
        "Desarrolle un programa que permita realizar el producto de matrices. El programa debe validar las condiciones necesarias para ejecutar la operación."
      ],
      "metadata": {
        "id": "Z9ltsE4_Qk6p"
      }
    },
    {
      "cell_type": "code",
      "source": [
        "def ingresar_matriz(filas, columnas):\n",
        "    matriz = [] # lista vacia inicial\n",
        "    print(\"Ingrese los elementos de la matriz\") # impresion de indicacion de ingreso de datos de matriz\n",
        "    for i in range(filas): # rango que establece el recorrido de las filas\n",
        "        fila = [] # lista vacia correspondiente a las filas\n",
        "        for j in range(columnas): # rango que establece el recorrido de columnas\n",
        "            x = int(input(\"dato de matriz (\" + str(i+1) + \", \" + str(j+1) + \"): \")) # es el ingreso de datos de la matriz\n",
        "            fila.append(x) # se unen en una sola lista las filas\n",
        "        matriz.append(fila) # se unene la lilsta de las filas a la matriz\n",
        "    return matriz # nos da el resultado acutual de la matriz\n",
        "def imprimir_matriz(matriz):\n",
        "    for fila in matriz:# con un for se hace un recorrido entre las filas de la matriz\n",
        "        for x in fila: # se hace otro recorrido pero entre los datos de las filas\n",
        "            print(x, end=' ') # se imprimen los datod, separados por espacios\n",
        "        print()\n",
        "def multiplicar_matrices(matriz1, matriz2): # funcion para producto de matrices\n",
        "    # almacena las filas y columnas de la matriz numero 1\n",
        "    filas_1 = len(matriz1)\n",
        "    columnas_1 = len(matriz1)\n",
        "    # almacena lo mismo pero de la matirz 2\n",
        "    filas_2 = len(matriz2)\n",
        "    columnas_2 = len(matriz2)\n",
        "    resultado = []\n",
        "    for i in range(filas_1): # bucle que recorre las filas de la m1\n",
        "        fila = []\n",
        "        for j in range(columnas_2): # recorre las columnas de la matriz 2\n",
        "            suma = 0\n",
        "            for k in range(columnas_1): # recorre las columnas de la matriz 1\n",
        "                suma += matriz1[i][k] * matriz2[k][j] # multiplica el elemento de la fila i de m1 en la columna k por el elemento de la fila k de m2 en la columna j y el resultado se acumula en suma\n",
        "            fila.append(suma) # se añade el valor a la lista\n",
        "        resultado.append(fila) # se añade el resultado a la matriz\n",
        "    return resultado # nos retorna su resultado\n",
        "if __name__ == \"__main__\": # lo primero que se ejecutara seran estas lineas que definimos como nuestra funcion principal por asi decirlo\n",
        "    filas = int(input(\"Ingrese el número de filas: \")) # seleccion del numero de filas\n",
        "    columnas = int(input(\"Ingrese el número de columnas: \")) # seleccion del numero de columnas\n",
        "    print(\"Matriz 1:\")\n",
        "    matriz1 = ingresar_matriz(filas, columnas) # llama la funcion (ingresar_matriz) lo que permite al usuario ingresar los valores de la primera matriz y los almacena en matriz 1\n",
        "    print(\"Matriz 2:\")\n",
        "    matriz2 = ingresar_matriz(filas, columnas) # llama la funcion (ingresar_matriz) lo que permite al usuario ingresar los valores de la segda matriz y los almacena en matriz 2\n",
        "    resultado_producto = multiplicar_matrices(matriz1, matriz2)\n",
        "    print(\"Resultado del producto: \" + str(imprimir_matriz(resultado_producto))) # imprime el resultado de la multiplicacion\n"
      ],
      "metadata": {
        "colab": {
          "base_uri": "https://localhost:8080/"
        },
        "id": "4pw3TaXylNlo",
        "outputId": "d9871697-3e1f-4fd9-9f42-1f3515f32e53"
      },
      "execution_count": 30,
      "outputs": [
        {
          "output_type": "stream",
          "name": "stdout",
          "text": [
            "Ingrese el número de filas: 2\n",
            "Ingrese el número de columnas: 2\n",
            "Matriz 1:\n",
            "Ingrese los elementos de la matriz\n",
            "dato de matriz (1, 1): 4\n",
            "dato de matriz (1, 2): 3\n",
            "dato de matriz (2, 1): 4\n",
            "dato de matriz (2, 2): 3\n",
            "Matriz 2:\n",
            "Ingrese los elementos de la matriz\n",
            "dato de matriz (1, 1): 4\n",
            "dato de matriz (1, 2): 3\n",
            "dato de matriz (2, 1): 2\n",
            "dato de matriz (2, 2): 3\n",
            "22 21 \n",
            "22 21 \n",
            "Resultado del producto: None\n"
          ]
        }
      ]
    },
    {
      "cell_type": "markdown",
      "source": [
        "Desarrolle un programa que permita obtener la matriz transpuesta de una matriz ingresada. El programa debe validar las condiciones necesarias para ejecutar la operación."
      ],
      "metadata": {
        "id": "ka4mVQcoRBYj"
      }
    },
    {
      "cell_type": "code",
      "source": [
        "def ingresar_matriz(filas, columnas):\n",
        "    matriz = [] # lista vacia inicial\n",
        "    print(\"Ingrese los elementos de la matriz\") # impresion de indicacion de ingreso de datos de matriz\n",
        "    for i in range(filas): # rango que establece el recorrido de las filas\n",
        "        fila = [] # lista vacia correspondiente a las filas\n",
        "        for j in range(columnas): # rango que establece el recorrido de columnas\n",
        "            x = int(input(\"dato de matriz (\" + str(i+1) + \", \" + str(j+1) + \"): \")) # es el ingreso de datos de la matriz\n",
        "            fila.append(x) # se unen en una sola lista las filas\n",
        "        matriz.append(fila) # se unene la lilsta de las filas a la matriz\n",
        "    return matriz # nos da el resultado acutual de la matriz\n",
        "def imprimir_matriz(matriz):\n",
        "    for fila in matriz:# con un for se hace un recorrido entre las filas de la matriz\n",
        "        for x in fila: # se hace otro recorrido pero entre los datos de las filas\n",
        "            print(x, end=' ') # se imprimen los datod, separados por espacios\n",
        "        print()\n",
        "def transponer_matriz(matriz):\n",
        "    filas = len(matriz) # Obtiene el numero de filas\n",
        "    columnas = len(matriz) # obtiene el numero de columnas\n",
        "    transpuesta = [] # lista en la cual se almacenara la nueva matriz\n",
        "    for i in range(columnas): # con un bucle recorremos la columnas\n",
        "        fila = []\n",
        "        for j in range(filas): # con otro bucle recorremosa las filas\n",
        "            fila.append(matriz[j][i]) # se accede por asi decirlo al elemento de la fila j y la columna i de la matriz inicial\n",
        "        transpuesta.append(fila) # cuando se completa la fila con todos los elementos de la columna i original, se añade la fila a la lista transpuesta\n",
        "    return transpuesta\n",
        "if __name__ == \"__main__\": # lo primero que se ejecutara seran estas lineas que definimos como nuestra funcion principal por asi decirlo\n",
        "    filas = int(input(\"Ingrese el número de filas: \")) # seleccion del numero de filas\n",
        "    columnas = int(input(\"Ingrese el número de columnas: \")) # seleccion del numero de columnas\n",
        "    print(\"Matriz 1:\")\n",
        "    matriz1 = ingresar_matriz(filas, columnas) # llama la funcion (ingresar_matriz) lo que permite al usuario ingresar los valores de la primera matriz y los almacena en matriz 1\n",
        "    print(\"Matriz 2:\")\n",
        "    matriz2 = ingresar_matriz(filas, columnas) # llama la funcion (ingresar_matriz) lo que permite al usuario ingresar los valores de la segda matriz y los almacena en matriz 2\n",
        "    resultado_transpuesta = transponer_matriz(matriz1) # llamamos a la funcion transponer_ matriz\n",
        "    print(\"Matriz transpuesta de la primera matriz: \"  + str(imprimir_matriz(resultado_transpuesta))) # nos imprime el resultado"
      ],
      "metadata": {
        "colab": {
          "base_uri": "https://localhost:8080/"
        },
        "id": "Puet7ubao2qa",
        "outputId": "079280e7-58a0-4bd7-b524-454970435e29"
      },
      "execution_count": 31,
      "outputs": [
        {
          "output_type": "stream",
          "name": "stdout",
          "text": [
            "Ingrese el número de filas: 2\n",
            "Ingrese el número de columnas: 2\n",
            "Matriz 1:\n",
            "Ingrese los elementos de la matriz\n",
            "dato de matriz (1, 1): 3\n",
            "dato de matriz (1, 2): 2\n",
            "dato de matriz (2, 1): 3\n",
            "dato de matriz (2, 2): 2\n",
            "Matriz 2:\n",
            "Ingrese los elementos de la matriz\n",
            "dato de matriz (1, 1): 1\n",
            "dato de matriz (1, 2): 2\n",
            "dato de matriz (2, 1): 4\n",
            "dato de matriz (2, 2): 3\n",
            "Matriz transpuesta de la primera matriz:\n",
            "3 3 \n",
            "2 2 \n"
          ]
        }
      ]
    },
    {
      "cell_type": "markdown",
      "source": [
        "Desarrollar un programa que sume los elementos de una columna dada de una matriz."
      ],
      "metadata": {
        "id": "-S3WbYwDRBl1"
      }
    },
    {
      "cell_type": "code",
      "source": [
        "def ingresar_matriz(filas, columnas):\n",
        "    matriz = [] # lista vacia inicial\n",
        "    print(\"Ingrese los elementos de la matriz\") # impresion de indicacion de ingreso de datos de matriz\n",
        "    for i in range(filas): # rango que establece el recorrido de las filas\n",
        "        fila = [] # lista vacia correspondiente a las filas\n",
        "        for j in range(columnas): # rango que establece el recorrido de columnas\n",
        "            x = int(input(\"dato de matriz (\" + str(i+1) + \", \" + str(j+1) + \"): \")) # es el ingreso de datos de la matriz\n",
        "            fila.append(x) # se unen en una sola lista las filas\n",
        "        matriz.append(fila) # se unene la lilsta de las filas a la matriz\n",
        "    return matriz # nos da el resultado acutual de la matriz\n",
        "def imprimir_matriz(matriz):\n",
        "    for fila in matriz:# con un for se hace un recorrido entre las filas de la matriz\n",
        "        for x in fila: # se hace otro recorrido pero entre los datos de las filas\n",
        "            print(x, end=' ') # se imprimen los datod, separados por espacios\n",
        "        print()\n",
        "def sumar_columna(matriz, columna):# funcion que realiza la suma de columnas\n",
        "    suma = 0 # inicializa en la variable 0\n",
        "    for fila in matriz: # recorremos las filas en la matriz\n",
        "      suma += fila[columna] # accede al elemento de la columna en la fila en la que esta\n",
        "    return suma # nos da su resultado\n",
        "if __name__ == \"__main__\": # lo primero que se ejecutara seran estas lineas que definimos como nuestra funcion principal por asi decirlo\n",
        "    filas = int(input(\"Ingrese el número de filas: \")) # seleccion del numero de filas\n",
        "    columnas = int(input(\"Ingrese el número de columnas: \")) # seleccion del numero de columnas\n",
        "    matriz = ingresar_matriz(filas, columnas) # llama la funcion (ingresar_matriz) lo que permite al usuario ingresar los valores de la primera matriz y los almacena en matriz 1\n",
        "    columna_sumar = int(input(\"ponga el indice de la columna que quiere sumar : \"))\n",
        "    suma_columna = sumar_columna(matriz1, columna_sumar) # llamamos a la funcion sumar_columna\n",
        "    print(\"La suma de la columna \" + str(columna_sumar) + \" es: \" + str(suma_columna)) # imprime el resultado\n"
      ],
      "metadata": {
        "colab": {
          "base_uri": "https://localhost:8080/"
        },
        "id": "WOuKxpz2Raje",
        "outputId": "81f16078-9648-46c6-d8ea-2d825e750a46"
      },
      "execution_count": 62,
      "outputs": [
        {
          "output_type": "stream",
          "name": "stdout",
          "text": [
            "Ingrese el número de filas: 2\n",
            "Ingrese el número de columnas: 2\n",
            "Matriz 1:\n",
            "Ingrese los elementos de la matriz\n",
            "dato de matriz (1, 1): 3\n",
            "dato de matriz (1, 2): 4\n",
            "dato de matriz (2, 1): 5\n",
            "dato de matriz (2, 2): 6\n",
            "ponga el indice de la columna que quiere sumar : 1\n",
            "La suma de la columna 1 es: 10\n"
          ]
        }
      ]
    },
    {
      "cell_type": "markdown",
      "source": [
        "Desarrollar un programa que sume los elementos de una fila dada de una matriz."
      ],
      "metadata": {
        "id": "2F0-EeVuRB0G"
      }
    },
    {
      "cell_type": "code",
      "source": [
        "def ingresar_matriz(filas, columnas):\n",
        "    matriz = [] # lista vacia inicial\n",
        "    print(\"Ingrese los elementos de la matriz\") # impresion de indicacion de ingreso de datos de matriz\n",
        "    for i in range(filas): # rango que establece el recorrido de las filas\n",
        "        fila = [] # lista vacia correspondiente a las filas\n",
        "        for j in range(columnas): # rango que establece el recorrido de columnas\n",
        "            x = int(input(\"dato de matriz (\" + str(i+1) + \", \" + str(j+1) + \"): \")) # es el ingreso de datos de la matriz\n",
        "            fila.append(x) # se unen en una sola lista las filas\n",
        "        matriz.append(fila) # se unene la lilsta de las filas a la matriz\n",
        "    return matriz # nos da el resultado acutual de la matriz\n",
        "def imprimir_matriz(matriz):\n",
        "    for fila in matriz:# con un for se hace un recorrido entre las filas de la matriz\n",
        "        for x in fila: # se hace otro recorrido pero entre los datos de las filas\n",
        "            print(x, end=' ') # se imprimen los datod, separados por espacios\n",
        "        print()\n",
        "def sumar_fila(matriz, fila):  # Función para sumar una fila\n",
        "    return sum(matriz[fila])  # Sumar todos los elementos de la fila\n",
        "if __name__ == \"__main__\": # lo primero que se ejecutara seran estas lineas que definimos como nuestra funcion principal por asi decirlo\n",
        "    filas = int(input(\"Ingrese el número de filas: \")) # seleccion del numero de filas\n",
        "    columnas = int(input(\"Ingrese el número de columnas: \")) # seleccion del numero de columnas\n",
        "    matriz = ingresar_matriz(filas, columnas) # llama la funcion (ingresar_matriz) lo que permite al usuario ingresar los valores de la primera matriz y los almacena en matriz 1\n",
        "    fila_sumar = int(input(\"ponga el indice de la fila que quiere sumar : \"))\n",
        "    suma_fila = sumar_fila(matriz1, fila_sumar) # llamamos a la funcion sumar_fila\n",
        "    print(\"La suma de la fila \" + str(fila_sumar) + \" es: \" + str(suma_fila)) # imprime el resultado"
      ],
      "metadata": {
        "colab": {
          "base_uri": "https://localhost:8080/"
        },
        "id": "DPsSo37hRZNN",
        "outputId": "fae637fa-9b22-474c-8db8-4d852b7deb51"
      },
      "execution_count": 63,
      "outputs": [
        {
          "output_type": "stream",
          "name": "stdout",
          "text": [
            "Ingrese el número de filas: 2\n",
            "Ingrese el número de columnas: 2\n",
            "Ingrese los elementos de la matriz\n",
            "dato de matriz (1, 1): 3\n",
            "dato de matriz (1, 2): 4\n",
            "dato de matriz (2, 1): 5\n",
            "dato de matriz (2, 2): 6\n",
            "ponga el indice de la fila que quiere sumar : 1\n",
            "La suma de la fila 1 es: 11\n"
          ]
        }
      ]
    }
  ]
}